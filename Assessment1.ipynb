{
  "nbformat": 4,
  "nbformat_minor": 0,
  "metadata": {
    "colab": {
      "provenance": []
    },
    "kernelspec": {
      "name": "python3",
      "display_name": "Python 3"
    },
    "language_info": {
      "name": "python"
    }
  },
  "cells": [
    {
      "cell_type": "markdown",
      "source": [
        "Write a python code to check whether a given number is prime or not\n"
      ],
      "metadata": {
        "id": "-cNCR9WsrTmg"
      }
    },
    {
      "cell_type": "code",
      "source": [
        "user_input = input(\"Enter a string: \")\n",
        "\n",
        "if user_input == user_input[::-1]:\n",
        "    print(\"The string is a palindrome.\")\n",
        "else:\n",
        "    print(\"The string is not a palindrome.\")"
      ],
      "metadata": {
        "colab": {
          "base_uri": "https://localhost:8080/"
        },
        "id": "skz37EDhwr0N",
        "outputId": "fb17cd03-0542-403a-a8af-066d2e89cb70"
      },
      "execution_count": null,
      "outputs": [
        {
          "output_type": "stream",
          "name": "stdout",
          "text": [
            "Enter a string: gadag\n",
            "The string is a palindrome.\n"
          ]
        }
      ]
    },
    {
      "cell_type": "markdown",
      "source": [
        "even or odd"
      ],
      "metadata": {
        "id": "zWgNj_jiwwOE"
      }
    },
    {
      "cell_type": "code",
      "source": [
        "odd_numbers = []\n",
        "even_numbers = []\n",
        "\n",
        "for i in range(10):\n",
        "    num = int(input(f\"Enter {i + 1}: \"))\n",
        "    if num % 2 == 0:\n",
        "        even_numbers.append(num)\n",
        "    else:\n",
        "        odd_numbers.append(num)\n",
        "print(\"Odd Numbers:\", odd_numbers)\n",
        "print(\"Even Numbers:\", even_numbers)"
      ],
      "metadata": {
        "colab": {
          "base_uri": "https://localhost:8080/"
        },
        "id": "f7XCN10qwsgs",
        "outputId": "f2b3ee4a-e264-49ff-ae19-0c65c4c921ab"
      },
      "execution_count": null,
      "outputs": [
        {
          "output_type": "stream",
          "name": "stdout",
          "text": [
            "Enter 1: 2\n",
            "Enter 2: 5\n",
            "Enter 3: 2\n",
            "Enter 4: 4\n",
            "Enter 5: 7\n",
            "Enter 6: 6\n",
            "Enter 7: 3\n",
            "Enter 8: 7\n",
            "Enter 9: 2\n",
            "Enter 10: 6\n",
            "Odd Numbers: [5, 7, 3, 7]\n",
            "Even Numbers: [2, 2, 4, 6, 2, 6]\n"
          ]
        }
      ]
    },
    {
      "cell_type": "markdown",
      "source": [
        "no of rows\n"
      ],
      "metadata": {
        "id": "ugM2AwhBxZgI"
      }
    },
    {
      "cell_type": "code",
      "source": [
        "def print_pattern(n):\n",
        "  for i in range(n):\n",
        "    for j in range(i+1):\n",
        "      print(\"*\", end=\"\")\n",
        "    print()\n",
        "\n",
        "n = int(input(\"Enter the number of rows: \"))\n",
        "print_pattern(n)"
      ],
      "metadata": {
        "colab": {
          "base_uri": "https://localhost:8080/"
        },
        "id": "ndpXfJfZxF1C",
        "outputId": "37257e2f-90fb-4256-f6a9-0165fcec1eca"
      },
      "execution_count": null,
      "outputs": [
        {
          "output_type": "stream",
          "name": "stdout",
          "text": [
            "Enter the number of rows: 2\n",
            "*\n",
            "**\n"
          ]
        }
      ]
    },
    {
      "cell_type": "code",
      "source": [
        "\n"
      ],
      "metadata": {
        "id": "KmowDN3XxjVx"
      },
      "execution_count": null,
      "outputs": []
    },
    {
      "cell_type": "code",
      "source": [],
      "metadata": {
        "id": "ZdJDc38vykgG"
      },
      "execution_count": null,
      "outputs": []
    }
  ]
}