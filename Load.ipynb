{
  "nbformat": 4,
  "nbformat_minor": 0,
  "metadata": {
    "colab": {
      "provenance": []
    },
    "kernelspec": {
      "name": "python3",
      "display_name": "Python 3"
    },
    "language_info": {
      "name": "python"
    }
  },
  "cells": [
    {
      "cell_type": "code",
      "execution_count": 1,
      "metadata": {
        "colab": {
          "base_uri": "https://localhost:8080/"
        },
        "id": "VZZ5zbShZFFL",
        "outputId": "075c1770-ea30-404b-df6a-392d90ed125f"
      },
      "outputs": [
        {
          "output_type": "stream",
          "name": "stdout",
          "text": [
            "Original Data:\n",
            "\n",
            "Normalized Data:\n",
            "       longitude  latitude  housing_median_age  total_rooms  total_bedrooms  \\\n",
            "0       1.000000  0.175345            0.274510     0.147885        0.198945   \n",
            "1       0.984064  0.197662            0.352941     0.201608        0.294848   \n",
            "2       0.975100  0.122210            0.313725     0.018927        0.026847   \n",
            "3       0.974104  0.116897            0.254902     0.039515        0.052142   \n",
            "4       0.974104  0.109458            0.372549     0.038276        0.050435   \n",
            "...          ...       ...                 ...          ...             ...   \n",
            "16995   0.008964  0.854410            1.000000     0.058389        0.060987   \n",
            "16996   0.007968  0.866100            0.686275     0.061869        0.081782   \n",
            "16997   0.004980  0.988310            0.313725     0.070515        0.082247   \n",
            "16998   0.004980  0.984060            0.352941     0.070384        0.085506   \n",
            "16999   0.000000  0.850159            1.000000     0.047924        0.046400   \n",
            "\n",
            "       population  households  median_income  median_house_value  \n",
            "0        0.028364    0.077454       0.068530            0.107012  \n",
            "1        0.031559    0.075974       0.091040            0.134228  \n",
            "2        0.009249    0.019076       0.079378            0.145775  \n",
            "3        0.014350    0.037000       0.185639            0.120414  \n",
            "4        0.017405    0.042921       0.098281            0.104125  \n",
            "...           ...         ...            ...                 ...  \n",
            "16995    0.025337    0.060516       0.128081            0.198764  \n",
            "16996    0.033381    0.076303       0.139170            0.131960  \n",
            "16997    0.034782    0.074823       0.174577            0.182682  \n",
            "16998    0.036296    0.078441       0.102054            0.145981  \n",
            "16999    0.022506    0.044236       0.173432            0.164125  \n",
            "\n",
            "[17000 rows x 9 columns]\n"
          ]
        }
      ],
      "source": [
        "import pandas as pd\n",
        "\n",
        "data = pd.read_csv('/content/sample_data/california_housing_train.csv')\n",
        "\n",
        "print(\"Original Data:\")\n",
        "\n",
        "from sklearn.preprocessing import MinMaxScaler\n",
        "features = data.values\n",
        "scaler = MinMaxScaler()\n",
        "normalized_features = scaler.fit_transform(features)\n",
        "normalized_data = pd.DataFrame(normalized_features, columns=data.columns)\n",
        "print(\"\\nNormalized Data:\")\n",
        "print(normalized_data)"
      ]
    }
  ]
}